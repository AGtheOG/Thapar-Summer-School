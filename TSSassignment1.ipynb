{
  "nbformat": 4,
  "nbformat_minor": 0,
  "metadata": {
    "colab": {
      "provenance": [],
      "authorship_tag": "ABX9TyOj87Laj3pAUTv8Kle5SO8W",
      "include_colab_link": true
    },
    "kernelspec": {
      "name": "python3",
      "display_name": "Python 3"
    },
    "language_info": {
      "name": "python"
    }
  },
  "cells": [
    {
      "cell_type": "markdown",
      "metadata": {
        "id": "view-in-github",
        "colab_type": "text"
      },
      "source": [
        "<a href=\"https://colab.research.google.com/github/AGtheOG/ThaparSummerSchool/blob/main/TSSassignment1.ipynb\" target=\"_parent\"><img src=\"https://colab.research.google.com/assets/colab-badge.svg\" alt=\"Open In Colab\"/></a>"
      ]
    },
    {
      "cell_type": "markdown",
      "source": [
        "*****Q1*****"
      ],
      "metadata": {
        "id": "rQi8729SF900"
      }
    },
    {
      "cell_type": "code",
      "execution_count": null,
      "metadata": {
        "id": "Ymp5U6SLUuHn"
      },
      "outputs": [],
      "source": [
        "L=[11,12,13,14]\n",
        "L.append(50)\n",
        "L.append(60)\n",
        "for i in L:\n",
        "  print(i)"
      ]
    },
    {
      "cell_type": "code",
      "source": [
        "L=[11,12,13,14]\n",
        "L.remove(11)\n",
        "L.remove(13)\n",
        "for i in L:\n",
        "  print(i)\n"
      ],
      "metadata": {
        "id": "LA8LzMErV4BL"
      },
      "execution_count": null,
      "outputs": []
    },
    {
      "cell_type": "code",
      "source": [
        "L=[11,12,13,14]\n",
        "L.sort()\n",
        "for i in L:\n",
        "  print(i)"
      ],
      "metadata": {
        "id": "tvshhPvOWYBx"
      },
      "execution_count": null,
      "outputs": []
    },
    {
      "cell_type": "code",
      "source": [
        "L=[11,12,13,14]\n",
        "L.sort()\n",
        "i=3\n",
        "while i>=0:\n",
        "  print(L[i])\n",
        "  i-=1"
      ],
      "metadata": {
        "id": "K3X4-FHUWkFw"
      },
      "execution_count": null,
      "outputs": []
    },
    {
      "cell_type": "code",
      "source": [
        "L=[11,12,13,14]\n",
        "for i in L:\n",
        "  if(i==13):\n",
        "   print(\"1\")\n",
        "  pass"
      ],
      "metadata": {
        "id": "tKv-ZK_3Wsux"
      },
      "execution_count": null,
      "outputs": []
    },
    {
      "cell_type": "code",
      "source": [
        "L=[11,12,13,14]\n",
        "a=len(L)\n",
        "print(a)"
      ],
      "metadata": {
        "id": "JFI7TFvbDKOj"
      },
      "execution_count": null,
      "outputs": []
    },
    {
      "cell_type": "code",
      "source": [
        "L=[11,12,13,14]\n",
        "s=0\n",
        "for i in L:\n",
        "  s=s+i\n",
        "print(s)"
      ],
      "metadata": {
        "id": "e6jf9DH4Dv3S"
      },
      "execution_count": null,
      "outputs": []
    },
    {
      "cell_type": "code",
      "source": [
        "L=[11,12,13,14]\n",
        "s=0\n",
        "for i in L:\n",
        "  if i%2==0:\n",
        "    s=s+i\n",
        "print(s)"
      ],
      "metadata": {
        "id": "05ygN3sLEh2I"
      },
      "execution_count": null,
      "outputs": []
    },
    {
      "cell_type": "code",
      "source": [
        "L=[11,12,13,14]\n",
        "s=0\n",
        "for i in L:\n",
        "  if i%2==1:\n",
        "    s=s+i\n",
        "print(s)"
      ],
      "metadata": {
        "id": "P8vO9Wb0Eh4k"
      },
      "execution_count": null,
      "outputs": []
    },
    {
      "cell_type": "code",
      "source": [
        "L=[11,12,13,14]\n",
        "s=0\n",
        "for i in L:\n",
        "  if i%2==1:\n",
        "    s=s+i\n",
        "print(s)"
      ],
      "metadata": {
        "id": "MPtBUYLoEy4E"
      },
      "execution_count": null,
      "outputs": []
    },
    {
      "cell_type": "code",
      "source": [
        "L=[11,12,13,14]\n",
        "L.clear()\n",
        "for i in L:\n",
        "  print(i)"
      ],
      "metadata": {
        "id": "8It-bsXLFCED"
      },
      "execution_count": null,
      "outputs": []
    },
    {
      "cell_type": "code",
      "source": [
        "L=[11,12,13,14]\n",
        "del(L)\n",
        "#for i in L:\n",
        "#  print(i)"
      ],
      "metadata": {
        "id": "jQNH97AoFRNN"
      },
      "execution_count": null,
      "outputs": []
    },
    {
      "cell_type": "markdown",
      "source": [
        "****Q2****"
      ],
      "metadata": {
        "id": "0HqEQVhFGagI"
      }
    },
    {
      "cell_type": "code",
      "source": [
        "D={1:5.6,2:7.8,3:6.6,4:8.7,5:7.7}\n",
        "D[8]=8.8\n",
        "for i in D:\n",
        "  print(i,\" \",D[i])"
      ],
      "metadata": {
        "id": "RS8e6ZqVFrho"
      },
      "execution_count": null,
      "outputs": []
    },
    {
      "cell_type": "code",
      "source": [
        "D={1:5.6,2:7.8,3:6.6,4:8.7,5:7.7}\n",
        "D.pop(2)\n",
        "for i in D:\n",
        "  print(i,\" \",D[i])"
      ],
      "metadata": {
        "id": "EWPf6q9JIFk6"
      },
      "execution_count": null,
      "outputs": []
    },
    {
      "cell_type": "code",
      "source": [
        "D={1:5.6,2:7.8,3:6.6,4:8.7,5:7.7}\n",
        "f=0\n",
        "for i in D:\n",
        "  if i==6:\n",
        "    f=1\n",
        "  pass\n",
        "print(f)"
      ],
      "metadata": {
        "id": "pzEYGTBSIPCz"
      },
      "execution_count": null,
      "outputs": []
    },
    {
      "cell_type": "code",
      "source": [
        "D={1:5.6,2:7.8,3:6.6,4:8.7,5:7.7}\n",
        "print(len(D))"
      ],
      "metadata": {
        "id": "O1IA80FvIxdT"
      },
      "execution_count": null,
      "outputs": []
    },
    {
      "cell_type": "code",
      "source": [
        "D={1:5.6,2:7.8,3:6.6,4:8.7,5:7.7}\n",
        "s=0\n",
        "for i in D:\n",
        "  s=s+D[i]\n",
        "print(s)"
      ],
      "metadata": {
        "id": "BRntNaZeI6Ko"
      },
      "execution_count": null,
      "outputs": []
    },
    {
      "cell_type": "code",
      "source": [
        "D={1:5.6,2:7.8,3:6.6,4:8.7,5:7.7}\n",
        "D[3]=7.1\n",
        "for i in D:\n",
        "  print(i,\" \",D[i])"
      ],
      "metadata": {
        "id": "dmA-ChQ9JGAJ"
      },
      "execution_count": null,
      "outputs": []
    },
    {
      "cell_type": "code",
      "source": [
        "D={1:5.6,2:7.8,3:6.6,4:8.7,5:7.7}\n",
        "D.clear()\n",
        "for i in D:\n",
        "  print(i,\" \",D[i])"
      ],
      "metadata": {
        "id": "doISSpT-J83x"
      },
      "execution_count": null,
      "outputs": []
    },
    {
      "cell_type": "markdown",
      "source": [
        "****Q3****\n",
        "\n",
        "\n"
      ],
      "metadata": {
        "id": "Yd9A2SR0KJDu"
      }
    },
    {
      "cell_type": "code",
      "source": [
        "S1=[10,20,30,40,50,60]\n",
        "S2=[40,50,60,70,80,90]\n",
        "S1.append(55)\n",
        "S1.append(66)\n",
        "for i in S1:\n",
        "  print(i)"
      ],
      "metadata": {
        "id": "kk46_875KZ-T"
      },
      "execution_count": null,
      "outputs": []
    },
    {
      "cell_type": "code",
      "source": [
        "S1=[10,20,30,40,50,60]\n",
        "S2=[40,50,60,70,80,90]\n",
        "S1.pop(0)\n",
        "S1.pop(2)\n",
        "for i in S1:\n",
        "  print(i)"
      ],
      "metadata": {
        "id": "-qj4sWymQ6pT"
      },
      "execution_count": null,
      "outputs": []
    },
    {
      "cell_type": "code",
      "source": [
        "S1=[10,20,30,40,50,60]\n",
        "S2=[40,50,60,70,80,90]\n",
        "for i in S1:\n",
        "  if i==40:\n",
        "    print(1)\n",
        "  pass"
      ],
      "metadata": {
        "id": "40whG_V6RS_E"
      },
      "execution_count": null,
      "outputs": []
    },
    {
      "cell_type": "code",
      "source": [
        "S1=[10,20,30,40,50,60]\n",
        "S2=[40,50,60,70,80,90]\n",
        "S3=[]\n"
      ],
      "metadata": {
        "id": "5j4yc1RlRps6"
      },
      "execution_count": null,
      "outputs": []
    },
    {
      "cell_type": "code",
      "source": [],
      "metadata": {
        "id": "AmWvyanUSdWq"
      },
      "execution_count": null,
      "outputs": []
    },
    {
      "cell_type": "code",
      "source": [],
      "metadata": {
        "id": "S_Oy903LSc14"
      },
      "execution_count": null,
      "outputs": []
    },
    {
      "cell_type": "markdown",
      "source": [
        "****Q4****"
      ],
      "metadata": {
        "id": "myhz-bsISisD"
      }
    },
    {
      "cell_type": "code",
      "source": [
        "import random as r\n",
        "for i in range(1,101):\n",
        "  print(r.randint(6,8))"
      ],
      "metadata": {
        "id": "K23W6hkbShQk"
      },
      "execution_count": null,
      "outputs": []
    },
    {
      "cell_type": "code",
      "source": [
        "def isprime(i):\n",
        "  f=1\n",
        "  for j in range(2,i//2+1):\n",
        "    if i%j==0:\n",
        "      f=0\n",
        "  return f\n",
        "for i in range(601,801):\n",
        "  if isprime(i)==1:\n",
        "    print(i)"
      ],
      "metadata": {
        "id": "4yKMB4CHTeBb"
      },
      "execution_count": null,
      "outputs": []
    },
    {
      "cell_type": "code",
      "source": [
        "for i in range(101,1001):\n",
        "  if i%7==0 | i%9==0:\n",
        "    print(i)"
      ],
      "metadata": {
        "id": "f2wOQnTIcKWN"
      },
      "execution_count": null,
      "outputs": []
    }
  ]
}